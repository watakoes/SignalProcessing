{
 "cells": [
  {
   "cell_type": "code",
   "execution_count": 7,
   "metadata": {},
   "outputs": [
    {
     "data": {
      "image/png": "[encoded data removed]",
      "text/plain": [
       "<Figure size 432x288 with 1 Axes>"
      ]
     },
     "metadata": {
      "needs_background": "light"
     },
     "output_type": "display_data"
    }
   ],
   "source": [
    "import soundfile as sf\n",
    "from scipy.signal import chirp\n",
    "import numpy as np\n",
    "import matplotlib.pyplot as plt \n",
    "\n",
    "#サンプル波形を生成(チャープ波形)\n",
    "samplerate = 44100 #サンプリング周波数\n",
    "ts = 0 #信号の開始時間\n",
    "tf = 10 #信号の終了時間\n",
    "t = np.linspace(ts, tf, tf * samplerate) #時間軸\n",
    "L = chirp(t, f0=10, f1=1000, t1=10, method='linear') #縦軸の作成\n",
    "\n",
    "#モノラルのwavファイルを保存\n",
    "sf.write('mono.wav', L, samplerate)\n",
    "\n",
    "# ここからグラフ描画\n",
    "# フォントの種類とサイズを設定する。\n",
    "plt.rcParams['font.size'] = 14\n",
    "plt.rcParams['font.family'] = 'Times New Roman'\n",
    " \n",
    "# 目盛を内側にする。\n",
    "plt.rcParams['xtick.direction'] = 'in'\n",
    "plt.rcParams['ytick.direction'] = 'in'\n",
    " \n",
    "# グラフの上下左右に目盛線を付ける。\n",
    "fig = plt.figure()\n",
    "ax1 = fig.add_subplot(111)\n",
    "ax1.yaxis.set_ticks_position('both')\n",
    "ax1.xaxis.set_ticks_position('both')\n",
    " \n",
    "# 軸のラベルを設定する。\n",
    "ax1.set_xlabel('Time [s]')\n",
    "ax1.set_ylabel('L')\n",
    " \n",
    "# データプロット。\n",
    "ax1.plot(t, L)\n",
    " \n",
    "# レイアウト設定\n",
    "fig.tight_layout()\n",
    " \n",
    "# グラフを表示する。\n",
    "plt.show()\n",
    "plt.close()"
   ]
  },
  {
   "cell_type": "code",
   "execution_count": null,
   "metadata": {},
   "outputs": [],
   "source": []
  }
 ],
 "metadata": {
  "kernelspec": {
   "display_name": "Python 3",
   "language": "python",
   "name": "python3"
  },
  "language_info": {
   "codemirror_mode": {
    "name": "ipython",
    "version": 3
   },
   "file_extension": ".py",
   "mimetype": "text/x-python",
   "name": "python",
   "nbconvert_exporter": "python",
   "pygments_lexer": "ipython3",
   "version": "3.7.6"
  }
 },
 "nbformat": 4,
 "nbformat_minor": 4
}
