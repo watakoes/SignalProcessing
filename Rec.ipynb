{
 "cells": [
  {
   "cell_type": "code",
   "execution_count": 12,
   "metadata": {},
   "outputs": [
    {
     "name": "stdout",
     "output_type": "stream",
     "text": [
      "{'index': 0, 'structVersion': 2, 'name': 'DELL U2718Q', 'hostApi': 0, 'maxInputChannels': 0, 'maxOutputChannels': 2, 'defaultLowInputLatency': 0.01, 'defaultLowOutputLatency': 0.009541666666666667, 'defaultHighInputLatency': 0.1, 'defaultHighOutputLatency': 0.018875, 'defaultSampleRate': 48000.0}\n",
      "{'index': 1, 'structVersion': 2, 'name': 'Built-in Microphone', 'hostApi': 0, 'maxInputChannels': 2, 'maxOutputChannels': 0, 'defaultLowInputLatency': 0.0029478458049886623, 'defaultLowOutputLatency': 0.01, 'defaultHighInputLatency': 0.01310657596371882, 'defaultHighOutputLatency': 0.1, 'defaultSampleRate': 44100.0}\n",
      "{'index': 2, 'structVersion': 2, 'name': 'Built-in Output', 'hostApi': 0, 'maxInputChannels': 0, 'maxOutputChannels': 2, 'defaultLowInputLatency': 0.01, 'defaultLowOutputLatency': 0.015895691609977326, 'defaultHighInputLatency': 0.1, 'defaultHighOutputLatency': 0.026054421768707484, 'defaultSampleRate': 44100.0}\n"
     ]
    },
    {
     "data": {
      "image/png": "[encoded data removed]",
      "text/plain": [
       "<Figure size 432x288 with 1 Axes>"
      ]
     },
     "metadata": {
      "needs_background": "light"
     },
     "output_type": "display_data"
    }
   ],
   "source": [
    "import pyaudio\n",
    "import numpy as np\n",
    "import matplotlib.pyplot as plt\n",
    "import pandas as pd\n",
    "from scipy.io.wavfile import write\n",
    "\n",
    "time = 5\n",
    "samplerate = 44100\n",
    "fs = 1024\n",
    "index = 1\n",
    "\n",
    "pa = pyaudio.PyAudio()\n",
    "for i in range(pa.get_device_count()):\n",
    "    print(pa.get_device_info_by_index(i))\n",
    "\n",
    "def record(index, samplerate, fs, time):\n",
    "    pa = pyaudio.PyAudio()\n",
    "    data = []\n",
    "    dt = 1 / samplerate #周期　周波数の逆数\n",
    "    \n",
    "    #ストリームの開始\n",
    "    stream = pa.open(format=pyaudio.paInt16, channels=1, rate=samplerate,\n",
    "                     input=True, input_device_index=index, frames_per_buffer=fs)\n",
    "    \n",
    "    #フレームサイズごとに音声を録音していくループ フレームサイズの個数分繰り返す\n",
    "    for i in range(int(((time / dt) / fs))):\n",
    "        frame = stream.read(fs)\n",
    "        data.append(frame)\n",
    "        \n",
    "    #ストリームの終了\n",
    "    stream.stop_stream()\n",
    "    stream.close()\n",
    "    pa.terminate()\n",
    "    \n",
    "    #データをまとめる処理\n",
    "    data = b\"\".join(data)\n",
    "    \n",
    "    #データをNumpy配列に変換\n",
    "    data = np.frombuffer(data, dtype='int16') / float((np.power(2, 16) / 2) - 1)\n",
    "    write('out.wav', samplerate, data)\n",
    "    \n",
    "    return data, i\n",
    "\n",
    "wfm, i = record(index, samplerate, fs, time)\n",
    "t = np.arange(0, fs * (i + 1) * (1 / samplerate), 1 / samplerate)\n",
    "\n",
    "plt.rcParams['font.size'] = 14\n",
    "plt.rcParams['font.family'] = 'Times New Roman'\n",
    " \n",
    "# 目盛を内側にする。\n",
    "plt.rcParams['xtick.direction'] = 'in'\n",
    "plt.rcParams['ytick.direction'] = 'in'\n",
    " \n",
    "# グラフの上下左右に目盛線を付ける。\n",
    "fig = plt.figure()\n",
    "ax1 = fig.add_subplot(111)\n",
    "ax1.yaxis.set_ticks_position('both')\n",
    "ax1.xaxis.set_ticks_position('both')\n",
    " \n",
    "# 軸のラベルを設定する。\n",
    "ax1.set_xlabel('Time [s]')\n",
    "ax1.set_ylabel('Sound pressure [Pa]')\n",
    " \n",
    "# データプロットの準備とともに、ラベルと線の太さ、凡例の設置を行う。\n",
    "ax1.plot(t, wfm, label='signal', lw=1)\n",
    " \n",
    "fig.tight_layout()\n",
    " \n",
    "# グラフを表示する。\n",
    "plt.show()\n",
    "plt.close()\n",
    "\n",
    "\n",
    "\n"
   ]
  },
  {
   "cell_type": "code",
   "execution_count": null,
   "metadata": {},
   "outputs": [],
   "source": []
  }
 ],
 "metadata": {
  "kernelspec": {
   "display_name": "Python 3",
   "language": "python",
   "name": "python3"
  },
  "language_info": {
   "codemirror_mode": {
    "name": "ipython",
    "version": 3
   },
   "file_extension": ".py",
   "mimetype": "text/x-python",
   "name": "python",
   "nbconvert_exporter": "python",
   "pygments_lexer": "ipython3",
   "version": "3.7.6"
  }
 },
 "nbformat": 4,
 "nbformat_minor": 4
}
