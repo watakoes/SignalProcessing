{
 "cells": [
  {
   "cell_type": "code",
   "execution_count": 4,
   "metadata": {},
   "outputs": [],
   "source": [
    "import soundfile as sf\n",
    "from scipy.signal import chirp\n",
    "import numpy as np\n",
    "import matplotlib.pyplot as plt\n",
    " \n",
    "# サンプル波形を生成（チャープ信号）\n",
    "samplerate = 44100                                      # サンプリングレート\n",
    "ts = 0                                                  # 信号の開始時間\n",
    "tf = 4                                                  # 信号の終了時間\n",
    "t = np.linspace(ts, tf, tf * samplerate)                # 時間軸を作成\n",
    "L = chirp(t, f0=10, f1=5000, t1=10, method='linear')    # 1チャンネル目の縦軸を作成\n",
    "R = np.flip(L)                                  # 2チャンネル目の縦軸を作成\n",
    "\n",
    "wave = np.array([L, R]) #チャンネル1と2を結合\n",
    "wave = wave.T #多チャンネルwav形式に変換\n",
    "\n",
    "#ステレオのwavファイルを保存\n",
    "sf.write('stereo.wav', wave, samplerate)"
   ]
  },
  {
   "cell_type": "code",
   "execution_count": null,
   "metadata": {},
   "outputs": [],
   "source": []
  }
 ],
 "metadata": {
  "kernelspec": {
   "display_name": "Python 3",
   "language": "python",
   "name": "python3"
  },
  "language_info": {
   "codemirror_mode": {
    "name": "ipython",
    "version": 3
   },
   "file_extension": ".py",
   "mimetype": "text/x-python",
   "name": "python",
   "nbconvert_exporter": "python",
   "pygments_lexer": "ipython3",
   "version": "3.7.6"
  }
 },
 "nbformat": 4,
 "nbformat_minor": 4
}
